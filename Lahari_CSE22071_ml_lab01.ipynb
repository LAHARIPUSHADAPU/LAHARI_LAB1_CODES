{
 "cells": [
  {
   "cell_type": "code",
   "execution_count": 1,
   "id": "c4be49f2-4179-4a02-abd2-c70f3918c773",
   "metadata": {},
   "outputs": [
    {
     "name": "stdout",
     "output_type": "stream",
     "text": [
      "Number of pairs with sum 10: 2\n"
     ]
    }
   ],
   "source": [
    "#Consider given list as [2,7,4,1,3,6]. Write prgm to count pairs of element with sum equal to 10.\n",
    "def count_for_sum_10(list, key):\n",
    "    count = 0\n",
    "    n = len(list)\n",
    "   \n",
    "   \n",
    "    for i in range(n):\n",
    "        for j in range(i + 1, n):\n",
    "            if list[i] + list[j] == key:\n",
    "                count += 1\n",
    "               \n",
    "    print(f\"Number of pairs with sum {key}: {count}\")\n",
    "\n",
    "\n",
    "numbers = [2, 7, 4, 1, 3, 6]\n",
    "\n",
    "\n",
    "key = 10\n",
    "\n",
    "\n",
    "count_for_sum_10(numbers, key)"
   ]
  },
  {
   "cell_type": "code",
   "execution_count": 2,
   "id": "0bdf06d5-12af-41c8-94c3-137f4cc02d9e",
   "metadata": {},
   "outputs": [
    {
     "name": "stdin",
     "output_type": "stream",
     "text": [
      "Enter a list of real numbers separated by spaces:  45 78 4\n"
     ]
    },
    {
     "name": "stdout",
     "output_type": "stream",
     "text": [
      "74.0\n"
     ]
    }
   ],
   "source": [
    "def cal_range(numbers):\n",
    "    if len(numbers) < 3:\n",
    "        return \"Range determination not possible.\"\n",
    "   \n",
    "    # Calculate the range\n",
    "    min_value = min(numbers)\n",
    "    max_value = max(numbers)\n",
    "    range_value = max_value - min_value\n",
    "   \n",
    "    return range_value\n",
    "\n",
    "# Get user input\n",
    "user_input = input(\"Enter a list of real numbers separated by spaces: \")\n",
    "\n",
    "# Convert the input string into a list of floats\n",
    "try:\n",
    "    numbers = list(map(float, user_input.split()))\n",
    "except ValueError:\n",
    "    res = \"Invalid input. Please enter valid numbers.\"\n",
    "else:\n",
    "    # Calculate the range\n",
    "    res = cal_range(numbers)\n",
    "\n",
    "# Print the result\n",
    "print(res)"
   ]
  },
  {
   "cell_type": "code",
   "execution_count": 3,
   "id": "bf579a66-53c0-4b6c-a3af-21f5ce54f93d",
   "metadata": {},
   "outputs": [
    {
     "name": "stdout",
     "output_type": "stream",
     "text": [
      "[25, 8]\n",
      "[3, 24]\n"
     ]
    }
   ],
   "source": [
    "def matrix_mul(A, P):\n",
    "    n = len(A)\n",
    "    C = [[0] * n for _ in range(n)]\n",
    "    for i in range(n):\n",
    "        for j in range(n):\n",
    "            for k in range(n):\n",
    "                C[i][j] += A[i][k] * P[k][j]\n",
    "    return C\n",
    "\n",
    "def matrix_power(A, m):\n",
    "    n = len(A)\n",
    "\n",
    "    res = [[1 if i == j else 0 for j in range(n)] for i in range(n)]\n",
    "\n",
    "    base = A\n",
    "\n",
    "    while m > 0:\n",
    "        if m % 2 == 1:\n",
    "            res = matrix_mul(res, base)\n",
    "        base = matrix_mul(base, base)\n",
    "        m //= 2\n",
    "\n",
    "    return res\n",
    "\n",
    "A = [[1, 8],\n",
    "     [3, 0]]\n",
    "m = 2\n",
    "\n",
    "res = matrix_power(A, m)\n",
    "for row in res:\n",
    "    print(row)"
   ]
  },
  {
   "cell_type": "code",
   "execution_count": 4,
   "id": "6f28a340-995a-4f4c-86de-ac788700bde3",
   "metadata": {},
   "outputs": [
    {
     "name": "stdin",
     "output_type": "stream",
     "text": [
      "Enter a string:  gggh\n"
     ]
    },
    {
     "name": "stdout",
     "output_type": "stream",
     "text": [
      "The character with the maximum occurrence  is ['g'] having occurence count is 3 times.\n"
     ]
    }
   ],
   "source": [
    "def highest_occurrence_character(s):\n",
    "    char_count = {}\n",
    "    for char in s:\n",
    "        if char != ' ':\n",
    "            char_count[char] = char_count.get(char, 0) + 1\n",
    "\n",
    "    max_count = max(char_count.values())\n",
    "    max_char = [char for char, count in char_count.items() if count == max_count]\n",
    "\n",
    "    print(\"The character with the maximum occurrence  is\", max_char, \"having occurence count is\", max_count, \"times.\")\n",
    "\n",
    "s = input(\"Enter a string: \")\n",
    "highest_occurrence_character(s)"
   ]
  },
  {
   "cell_type": "code",
   "execution_count": null,
   "id": "9fd16da1-3fb5-4105-93ad-113e81ebdb29",
   "metadata": {},
   "outputs": [],
   "source": []
  }
 ],
 "metadata": {
  "kernelspec": {
   "display_name": "Python 3 (ipykernel)",
   "language": "python",
   "name": "python3"
  },
  "language_info": {
   "codemirror_mode": {
    "name": "ipython",
    "version": 3
   },
   "file_extension": ".py",
   "mimetype": "text/x-python",
   "name": "python",
   "nbconvert_exporter": "python",
   "pygments_lexer": "ipython3",
   "version": "3.11.7"
  }
 },
 "nbformat": 4,
 "nbformat_minor": 5
}
